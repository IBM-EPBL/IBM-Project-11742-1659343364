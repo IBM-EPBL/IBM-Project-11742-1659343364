{
 "cells": [
  {
   "cell_type": "markdown",
   "metadata": {},
   "source": [
    "#### Consider a list (list = []). You can perform the following commands:\n",
    "\n",
    "<li>append e: Insert integer  at the end of the list.</li>\n",
    "<li>insert i e: Insert integer  at position.</li>\n",
    "<li>print: Print the list.</li>\n",
    "<li>pop: Pop the last element from the list.</li>\n",
    "<li>remove e: Delete the first occurrence of integer.</li>\n",
    "<li>sort: Sort the list.</li>\n",
    "<li>reverse: Reverse the list.</li>"
   ]
  },
  {
   "cell_type": "code",
   "execution_count": 27,
   "metadata": {},
   "outputs": [
    {
     "name": "stdout",
     "output_type": "stream",
     "text": [
      "Initial List: [19, 6, 4, 45, 19, 22, 1, 47, 3, 24]\n",
      "List after insert operation: [19, 6, 10, 4, 45, 19, 22, 77, 1, 47, 77, 3, 24]\n",
      "List after pop operation: [19, 6, 10, 4, 45, 19, 22, 77, 1, 47, 77, 3]\n",
      "List after remove operation: [19, 6, 10, 4, 45, 19, 22, 1, 47, 77, 3]\n",
      "Sorted list [1, 3, 4, 6, 10, 19, 19, 22, 45, 47, 77]\n",
      "Reversed list [77, 47, 45, 22, 19, 19, 10, 6, 4, 3, 1]\n"
     ]
    }
   ],
   "source": [
    "from random import randint\n",
    "\n",
    "# initializing list with random numbers\n",
    "arr = []\n",
    "for i in range(10):\n",
    "    arr.append(randint(1,50))\n",
    "\n",
    "print(f'Initial List: {arr}')\n",
    "\n",
    "arr.insert(2,10)\n",
    "arr.insert(7,77)\n",
    "arr.insert(10,77)\n",
    "print(f'List after insert operation: {arr}')\n",
    "\n",
    "arr.pop()\n",
    "print(f'List after pop operation: {arr}')\n",
    "\n",
    "arr.remove(77)\n",
    "print(f'List after remove operation: {arr}')\n",
    "\n",
    "arr.sort()\n",
    "print(f'Sorted list {arr}')\n",
    "\n",
    "arr.reverse()\n",
    "print(f'Reversed list {arr}')"
   ]
  },
  {
   "cell_type": "markdown",
   "metadata": {},
   "source": [
    "#### Initialize your list and read in the value followed by  lines of commands where each command will be of the  types listed above. Iterate through each command in order and perform the corresponding operation on your list."
   ]
  },
  {
   "cell_type": "code",
   "execution_count": 4,
   "metadata": {},
   "outputs": [
    {
     "name": "stdout",
     "output_type": "stream",
     "text": [
      "Enter the corresponding numbers for the following operations\n",
      "List after appending 100: [21, 34, 345, 43, 100]\n",
      "List after inserting 101 at position 3: [21, 34, 345, 101, 43, 100]\n",
      "List after removing 345: [21, 34, 101, 43, 100]\n",
      "List after appending 102: [21, 34, 101, 43, 100, 102]\n",
      "Popped element: 102\n",
      "List after pop: [21, 34, 101, 43, 100]\n",
      "List after sorting: [21, 34, 43, 100, 101]\n",
      "List after reversing: [101, 100, 43, 34, 21]\n",
      "List: [101, 100, 43, 34, 21]\n"
     ]
    }
   ],
   "source": [
    "array = [21,34,345,43]\n",
    "\n",
    "print('Enter the corresponding numbers for the following operations')\n",
    "\n",
    "flag = 1\n",
    "while(flag):\n",
    "    operation = int(input('1.Append 2.Insert 3.Pop 4.Remove 5.Sort 6.Reverse 7.Print 0.Exit: '))\n",
    "\n",
    "    match operation:\n",
    "        case 0:\n",
    "            flag = 0\n",
    "\n",
    "        case 1:\n",
    "            item = int(input('Enter the element to append: '))\n",
    "            array.append(item)\n",
    "            print(f'List after appending {item}: {array}')\n",
    "\n",
    "        case 2:\n",
    "            pos = int(input('Enter the position to insert: '))\n",
    "            item = int(input('Enter the element to insert: '))\n",
    "            array.insert(pos, item)\n",
    "            print(f'List after inserting {item} at position {pos}: {array}')\n",
    "            \n",
    "        case 3:\n",
    "            item = array.pop()\n",
    "            print(f'Popped element: {item}\\nList after pop: {array}')\n",
    "            \n",
    "        case 4:\n",
    "            item = int(input('Enter the element to remove: '))\n",
    "            array.remove(item)\n",
    "            print(f'List after removing {item}: {array}')\n",
    "\n",
    "        case 5:\n",
    "            array.sort()\n",
    "            print(f'List after sorting: {array}')\n",
    "\n",
    "        case 6:\n",
    "            array.reverse()\n",
    "            print(f'List after reversing: {array}')\n",
    "\n",
    "        case 7:\n",
    "            print(f'List: {array}')\n",
    "            \n",
    "        case _:\n",
    "            print('Kindly Enter a valid operation.')"
   ]
  },
  {
   "cell_type": "markdown",
   "metadata": {},
   "source": [
    "#### Write a Calculator program in Python?"
   ]
  },
  {
   "cell_type": "code",
   "execution_count": 9,
   "metadata": {},
   "outputs": [
    {
     "name": "stdout",
     "output_type": "stream",
     "text": [
      "Your inputs: 12 10 and your operation is 1.Add\n",
      "Result: 22\n",
      "Your inputs: 45 5 and your operation is 2.Subtract\n",
      "Result: 40\n",
      "Your inputs: 10 10 and your operation is 3.Multiply\n",
      "Result: 100\n",
      "Your inputs: 100 10 and your operation is 4.Divide\n",
      "Result: 10.0\n",
      "Program terminated\n"
     ]
    }
   ],
   "source": [
    "def add(x, y):\n",
    "    return x + y\n",
    "\n",
    "def subtract(x, y):\n",
    "    return x - y\n",
    "\n",
    "def multiply(x, y):\n",
    "    return x * y\n",
    "\n",
    "def divide(x, y):\n",
    "    return x / y\n",
    "\n",
    "flag = 1\n",
    "while(flag):\n",
    "    operation = int(input('Select operation: 1.Add 2.Subtract 3.Multiply 4.Divide 0.Exit: '))\n",
    "\n",
    "    match operation:\n",
    "        case 0:\n",
    "            flag = 0\n",
    "            print('Program terminated')\n",
    "\n",
    "        case 1:\n",
    "            x,y = map(int, input('Enter two space seperated integers').split())\n",
    "            print(f'Your inputs: {x} {y} and your operation is 1.Add')\n",
    "            print(f'Result: {add(x,y)}')\n",
    "\n",
    "        case 2:\n",
    "            x,y = map(int, input('Enter two space seperated integers').split())\n",
    "            print(f'Your inputs: {x} {y} and your operation is 2.Subtract')\n",
    "            print(f'Result: {subtract(x,y)}')\n",
    "            \n",
    "        case 3:\n",
    "            x,y = map(int, input('Enter two space seperated integers').split())\n",
    "            print(f'Your inputs: {x} {y} and your operation is 3.Multiply')\n",
    "            print(f'Result: {multiply(x,y)}')\n",
    "            \n",
    "        case 4:\n",
    "            x,y = map(int, input('Enter two space seperated integers').split())\n",
    "            print(f'Your inputs: {x} {y} and your operation is 4.Divide')\n",
    "            print(f'Result: {divide(x,y)}')\n",
    "            \n",
    "        case _:\n",
    "            print('Kindly Enter a valid operation.')"
   ]
  },
  {
   "cell_type": "markdown",
   "metadata": {},
   "source": [
    "#### Write a program to concatenate, reverse and slice a string?"
   ]
  },
  {
   "cell_type": "code",
   "execution_count": 11,
   "metadata": {},
   "outputs": [
    {
     "name": "stdout",
     "output_type": "stream",
     "text": [
      "Concatenate: some random texttesting this code\n",
      "Reverse: edoc siht gnitsettxet modnar emos\n",
      "Slice: andom \n"
     ]
    }
   ],
   "source": [
    "my_string = 'some random text'\n",
    "your_string = 'testing this code'\n",
    "\n",
    "result = my_string + your_string\n",
    "\n",
    "print(f'Concatenate: {result}')\n",
    "print(f'Reverse: {result[::-1]}')\n",
    "print(f'Slice: {result[6:12]}')"
   ]
  },
  {
   "cell_type": "markdown",
   "metadata": {},
   "source": [
    "#### Why is Python a popular programming language?\n",
    "        Due to its ease of learning and usage, Python codes can easily be written and executed much faster than other programming languages. One of the main reasons why Python's popularity has exponentially grown is due to its simplicity in syntax so that it could be easy to read and developed by amateur professionals as well.\n",
    "#### What are the other Frameworks that can be used with python?\n",
    "        Bottle\n",
    "        Flask\n",
    "        Django \n",
    "        Web2py\n",
    "        AIOHTTP\n",
    "        CherryPy\n",
    "        Dash\n",
    "        Falcon\n",
    "        Growler\n",
    "        UvLoop\n",
    "        Pyramid \n",
    "        Sanic\n",
    "        CubicWeb \n",
    "        TurboGears\n",
    "        Hug\n",
    "        MorePath\n",
    "#### Full form of WSGI?\n",
    "        Web Server Gateway Interface"
   ]
  }
 ],
 "metadata": {
  "kernelspec": {
   "display_name": "Python 3.10.6 64-bit",
   "language": "python",
   "name": "python3"
  },
  "language_info": {
   "codemirror_mode": {
    "name": "ipython",
    "version": 3
   },
   "file_extension": ".py",
   "mimetype": "text/x-python",
   "name": "python",
   "nbconvert_exporter": "python",
   "pygments_lexer": "ipython3",
   "version": "3.10.6"
  },
  "orig_nbformat": 4,
  "vscode": {
   "interpreter": {
    "hash": "e7370f93d1d0cde622a1f8e1c04877d8463912d04d973331ad4851f04de6915a"
   }
  }
 },
 "nbformat": 4,
 "nbformat_minor": 2
}
